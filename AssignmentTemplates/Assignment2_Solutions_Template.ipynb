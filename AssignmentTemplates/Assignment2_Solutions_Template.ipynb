{
  "nbformat": 4,
  "nbformat_minor": 0,
  "metadata": {
    "kernelspec": {
      "display_name": "Python 3",
      "language": "python",
      "name": "python3"
    },
    "language_info": {
      "codemirror_mode": {
        "name": "ipython",
        "version": 3
      },
      "file_extension": ".py",
      "mimetype": "text/x-python",
      "name": "python",
      "nbconvert_exporter": "python",
      "pygments_lexer": "ipython3",
      "version": "3.6.8"
    },
    "colab": {
      "name": "Assignment2_Solutions_Template.ipynb",
      "provenance": []
    }
  },
  "cells": [
    {
      "cell_type": "markdown",
      "metadata": {
        "id": "touQvlyUB59s"
      },
      "source": [
        "# Assignment 2 Solutions"
      ]
    },
    {
      "cell_type": "markdown",
      "metadata": {
        "id": "28EINxDUB59t"
      },
      "source": [
        "# Question 1\n",
        "\n",
        "Let Z be a standard normal random variable and calculate the following probabilities, drawing pictures whenever appropriate.\n",
        "\n",
        "(a) P(0 <= Z <= 2.40)\n",
        "\n",
        "(b) P(0 <= Z <= 1)\n",
        "\n",
        "(c) P(-2.90 <= Z <= 0)\n",
        "\n",
        "(d) P(-2.90 <= Z <= 2.9)\n",
        "\n",
        "(e) P(Z <= 1.14)\n",
        "\n",
        "(f) P(-1.63 <= Z)  \n",
        "\n",
        "(g) P(-1.9 <= Z <= 2.00)\n",
        "\n",
        "(h) P(1.14 <= Z <= 2.50)\n",
        "\n",
        "(i) P(1.9 <= Z)\n",
        "\n",
        "(j) P( |Z| <= 2.50)"
      ]
    },
    {
      "cell_type": "code",
      "metadata": {
        "id": "wPe6PUzJB59u",
        "outputId": "aded912a-6fce-4150-e8e7-4cc4053d1226",
        "colab": {
          "base_uri": "https://localhost:8080/",
          "height": 187
        }
      },
      "source": [
        "import scipy.stats as stats\n",
        "print(\"a: %.4f\"% (stats.norm.cdf(2.4)-stats.norm.cdf(0)))\n",
        "print(stats.norm.cdf(1.0)-stats.norm.cdf(0))\n",
        "print(stats.norm.cdf(0)-stats.norm.cdf(-2.3))\n",
        "print(stats.norm.cdf(2.3)-stats.norm.cdf(-2.3))\n",
        "print(stats.norm.cdf(1.35))\n",
        "print(1-stats.norm.cdf(-1.62))\n",
        "print(stats.norm.cdf(2.00)-stats.norm.cdf(-1.3))\n",
        "print(stats.norm.cdf(2.5)-stats.norm.cdf(1.35))\n",
        "print(1-stats.norm.cdf(1.3))\n",
        "print(stats.norm.cdf(2.5)-stats.norm.cdf(-2.5))"
      ],
      "execution_count": 4,
      "outputs": [
        {
          "output_type": "stream",
          "text": [
            "a: 0.4918\n",
            "0.3413447460685429\n",
            "0.48927588997832416\n",
            "0.9785517799566483\n",
            "0.911492008562598\n",
            "0.9473838615457479\n",
            "0.8804493834662104\n",
            "0.0822983261116258\n",
            "0.0968004845856103\n",
            "0.9875806693484477\n"
          ],
          "name": "stdout"
        }
      ]
    },
    {
      "cell_type": "markdown",
      "metadata": {
        "id": "KrYyIXyVB59w"
      },
      "source": [
        "# Question 2\n",
        "\n",
        "Let Z be a standard normal random variable. In each case, determine the value of the constant c that makes the probability statement correct.\n",
        "\n",
        "(a) Phi(c) = 0.9826 \n",
        "\n",
        "(b) P(0 <= Z <= c) = 0.2995\n",
        "\n",
        "(c) P(c <= Z) = 0.1251\n",
        "\n",
        "(d) P(-c <= Z <= c) = 0.6476\n",
        "\n",
        "(e) P(c <= |Z|) = 0.0139"
      ]
    },
    {
      "cell_type": "code",
      "metadata": {
        "id": "M6jytQe9B59w",
        "outputId": "aab09546-6ce0-4df8-f197-bcde9e36cb25",
        "colab": {
          "base_uri": "https://localhost:8080/",
          "height": 102
        }
      },
      "source": [
        "z = stats.norm(0,1)\n",
        "print(z.ppf(0.9826))\n",
        "print(z.ppf(0.5+0.2995))\n",
        "print(z.ppf(1-0.1314))\n",
        "print(-1.0-z.ppf((1-0.6579)/2))\n",
        "print(z.ppf(1-0.0139/2))"
      ],
      "execution_count": 8,
      "outputs": [
        {
          "output_type": "stream",
          "text": [
            "2.1106779792322805\n",
            "0.8398366163448432\n",
            "1.119797652206404\n",
            "-0.049975886005641845\n",
            "2.459837335382782\n"
          ],
          "name": "stdout"
        }
      ]
    },
    {
      "cell_type": "markdown",
      "metadata": {
        "id": "BEDp4xeTB59y"
      },
      "source": [
        "# Question 3\n",
        "\n",
        "If X is a normal rv with mean 80 and standard deviation 15, compute the following probabilities by standardizing.\n",
        "\n",
        "(a) P(X <= 110)\n",
        "\n",
        "(b) P(X <= 80)\n",
        "\n",
        "(c) P(57.5 <= X <= 110)\n",
        "\n",
        "(d) P(65 <= X)\n",
        "\n",
        "(e) P(87.5 <= X <= 102.5)\n",
        "\n",
        "(f) P( |X - 80| <= 15)\n",
        "  "
      ]
    },
    {
      "cell_type": "code",
      "metadata": {
        "id": "9oEHbc6kB59z",
        "outputId": "0d503323-a8f8-4e71-9794-00e04267aa25",
        "colab": {
          "base_uri": "https://localhost:8080/",
          "height": 119
        }
      },
      "source": [
        "x = stats.norm(80,15)\n",
        "\n",
        "print(x.cdf(110))\n",
        "print(x.cdf(80))\n",
        "print(x.cdf(110)-x.cdf(57.5))\n",
        "print(1-x.cdf(65))\n",
        "print(x.cdf(102.5)-x.cdf(87.5))\n",
        "print(x.cdf(95)-x.cdf(65))"
      ],
      "execution_count": 9,
      "outputs": [
        {
          "output_type": "stream",
          "text": [
            "0.9772498680518208\n",
            "0.5\n",
            "0.9104426667829627\n",
            "0.8413447460685429\n",
            "0.2417303374571288\n",
            "0.6826894921370859\n"
          ],
          "name": "stdout"
        }
      ]
    },
    {
      "cell_type": "markdown",
      "metadata": {
        "id": "ACBdzBT7B590"
      },
      "source": [
        "# Question 4\n",
        "\n",
        "Suppose the force acting on a column that helps to support a building is normally distributed with mean 15.8 kips and standard deviation 1.33 kips. (Round your answers to four decimal places.)\n",
        "\n",
        "(a) What is the probability that the force is at most 18 kips? \n",
        "\n",
        "(b) What is the probability that the force is between 10 and 12 kips? \n",
        "\n",
        "(c) What is the probability that the force differs from 15.8 kips by at most 1.5 standard deviations?"
      ]
    },
    {
      "cell_type": "code",
      "metadata": {
        "id": "Pn6ZeR05B591",
        "outputId": "73766029-81c5-4203-fc14-30596af6bc98",
        "colab": {
          "base_uri": "https://localhost:8080/",
          "height": 68
        }
      },
      "source": [
        "mu = 15.8\n",
        "sigma = 1.32\n",
        "\n",
        "x = stats.norm(mu,sigma)\n",
        "\n",
        "print(x.cdf(18))\n",
        "print(x.cdf(12)-x.cdf(10))\n",
        "print(x.cdf(mu+1.5*sigma)-x.cdf(mu-1.5*sigma))"
      ],
      "execution_count": 10,
      "outputs": [
        {
          "output_type": "stream",
          "text": [
            "0.9522096477271852\n",
            "0.0019904679855126542\n",
            "0.8663855974622838\n"
          ],
          "name": "stdout"
        }
      ]
    },
    {
      "cell_type": "markdown",
      "metadata": {
        "id": "PyBKachdB593"
      },
      "source": [
        "# Question 5\n",
        "\n",
        "There are two machines available for cutting corks intended for use in wine bottles. The first produces corks with diameters that are normally distributed with mean 3 cm and standard deviation 0.08 cm. The second machine produces corks with diameters that have a normal distribution with mean 3.04 cm and standard deviation 0.02 cm. Acceptable corks have diameters between 2.9 cm and 3.1 cm.\n",
        "\n",
        "What is the probability that the first machine produces an acceptable cork? (Round your answer to four decimal places.) \n",
        "\n",
        "What is the probability that the second machine produces an acceptable cork? (Round your answer to four decimal places.)"
      ]
    },
    {
      "cell_type": "code",
      "metadata": {
        "id": "UjSTtbfPB593",
        "outputId": "7a5ced41-1132-4d01-91e8-a6c671cdf521",
        "colab": {
          "base_uri": "https://localhost:8080/",
          "height": 51
        }
      },
      "source": [
        "x1 = stats.norm(3.00,0.08)\n",
        "x2 = stats.norm(3.04, 0.02)\n",
        "\n",
        "xlow = 2.9\n",
        "xhigh = 3.1\n",
        "\n",
        "print(x1.cdf(xhigh)-x1.cdf(xlow))\n",
        "print(x2.cdf(xhigh)-x2.cdf(xlow))"
      ],
      "execution_count": 12,
      "outputs": [
        {
          "output_type": "stream",
          "text": [
            "0.7887004526662897\n",
            "0.99865010196709\n"
          ],
          "name": "stdout"
        }
      ]
    },
    {
      "cell_type": "markdown",
      "metadata": {
        "id": "seneVsibB596"
      },
      "source": [
        "# Question 6\n",
        "\n",
        "It has been suggested that yield strength (ksi) for A36 grade steel is normally distributed with mu = 45 and σ = 4.0.\n",
        "\n",
        "(a) What is the probability that yield strength is at most 40?  \n",
        "\n",
        "What is the probability that yield strength is greater than 60?\n",
        "\n",
        "(b) What yield strength value separates the strongest 75% from the others?"
      ]
    },
    {
      "cell_type": "code",
      "metadata": {
        "id": "6FXV9_5jB596",
        "outputId": "0522b40f-9b39-4d41-8c0e-5028b46d1d56",
        "colab": {
          "base_uri": "https://localhost:8080/",
          "height": 68
        }
      },
      "source": [
        "x = stats.norm(45,4.0)\n",
        "print(x.cdf(40))\n",
        "print(1-x.cdf(60))\n",
        "print(x.ppf(0.25))"
      ],
      "execution_count": 15,
      "outputs": [
        {
          "output_type": "stream",
          "text": [
            "0.10564977366685535\n",
            "8.841728520081471e-05\n",
            "42.30204099921567\n"
          ],
          "name": "stdout"
        }
      ]
    },
    {
      "cell_type": "markdown",
      "metadata": {
        "id": "NzI1PtB5B598"
      },
      "source": [
        "# Question 7\n",
        "\n",
        "The temperature reading from a thermocouple placed in a constant-temperature medium is normally distributed with mean μ, the actual temperature of the medium, and standard deviation σ. What would the value of σ have to be to ensure that 95% of all readings are within 0.9° of μ?"
      ]
    },
    {
      "cell_type": "code",
      "metadata": {
        "id": "YJ_E7V5sB599"
      },
      "source": [
        ""
      ],
      "execution_count": null,
      "outputs": []
    },
    {
      "cell_type": "markdown",
      "metadata": {
        "id": "Vk3q1ydtB59_"
      },
      "source": [
        "$z = (\\bar{x}-\\mu)/\\sigma$\n",
        "\n",
        "Therefore,\n",
        "\n",
        "$\\sigma = (\\bar{x}-\\mu)/z$\n",
        "\n",
        "$\\sigma = \\delta_\\mu/z$"
      ]
    },
    {
      "cell_type": "code",
      "metadata": {
        "id": "kfkH92P8B59_"
      },
      "source": [
        ""
      ],
      "execution_count": null,
      "outputs": []
    },
    {
      "cell_type": "markdown",
      "metadata": {
        "id": "FztgAAEMB5-B"
      },
      "source": [
        "# Question 8\n",
        "\n",
        "Suppose that 10% of all steel shafts produced by a certain process are nonconforming but can be reworked (rather than having to be scrapped). Consider a random sample of 200 shafts, and let X denote the number among these that are nonconforming and can be reworked.\n",
        "\n",
        "(a) What is the (approximate) probability that X is at most 30?\n",
        "\n",
        "(b) What is the (approximate) probability that X is less than 30?\n",
        "\n",
        "(c) What is the (approximate) probability that X is between 15 and 25 (inclusive)?"
      ]
    },
    {
      "cell_type": "markdown",
      "metadata": {
        "id": "9H-XbkyyB5-B"
      },
      "source": [
        "This question asks us to make an approximation to a process that is governed (exactly) by the binomial distribution.  The two approximations that we could considers are (a) the normal distribution, and (b) the Poisson distribution.  The normal distribution is appropriate for large N, and p $\\approx$ 0.5.  The Poission distribution is appropriate for small p or large p.  Since we have p = 0.10, we choose the Poisson distribution."
      ]
    },
    {
      "cell_type": "code",
      "metadata": {
        "id": "vcwoH48QB5-B"
      },
      "source": [
        "import numpy as np\n"
      ],
      "execution_count": null,
      "outputs": []
    },
    {
      "cell_type": "code",
      "metadata": {
        "id": "QvUjGOEUB5-D",
        "outputId": "d74892a0-7b91-489b-a94f-5f446963eb5f",
        "colab": {
          "base_uri": "https://localhost:8080/",
          "height": 68
        }
      },
      "source": [
        "N = 200\n",
        "p = 0.10\n",
        "\n",
        "lmbda = N *p\n",
        "\n",
        "x = stats.poisson(lmbda)\n",
        "\n",
        "print(x.cdf(30.5))\n",
        "print(x.cdf(29.5))\n",
        "print(x.cdf(25.)-x.cdf(14.5))"
      ],
      "execution_count": 18,
      "outputs": [
        {
          "output_type": "stream",
          "text": [
            "0.9865253187200778\n",
            "0.9781817824744425\n",
            "0.7829507461740455\n"
          ],
          "name": "stdout"
        }
      ]
    }
  ]
}